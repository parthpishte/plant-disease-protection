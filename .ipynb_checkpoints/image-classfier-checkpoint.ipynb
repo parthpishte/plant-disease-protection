{
 "cells": [
  {
   "cell_type": "code",
   "execution_count": null,
   "id": "19bc9e88-0ac5-4f7c-8722-6534fd918171",
   "metadata": {},
   "outputs": [],
   "source": [
    "#setting seeds\n",
    "import random\n",
    "random.seed(0)\n",
    "import numpy as np\n",
    "np.random.seed(0)\n",
    "import tensorflow as tf\n",
    "tf.random.set_seed(0)\n"
   ]
  },
  {
   "cell_type": "code",
   "execution_count": null,
   "id": "06d940ae-1809-41af-bd28-68a559b81cbc",
   "metadata": {},
   "outputs": [],
   "source": [
    "#importing dependancy\n",
    "import os\n",
    "import json\n",
    "from zipfile import ZipFile\n",
    "from PIL import Image\n",
    "import numpy as np\n",
    "import matplotlib.pyplot as plt\n",
    "import matplotlib.image as mpimg\n",
    "from tensorflow.keras.preprocessing.image import ImageDataGenerator\n",
    "from tensorflow.keras import layers,models"
   ]
  },
  {
   "cell_type": "code",
   "execution_count": null,
   "id": "6829621f-2202-4238-a1d7-850ef3e1ed4f",
   "metadata": {
    "scrolled": true
   },
   "outputs": [],
   "source": [
    "#data curating from kaggel api\n",
    "# !pip install kaggle\n"
   ]
  },
  {
   "cell_type": "code",
   "execution_count": null,
   "id": "1533a8a4-6bf4-49d5-90eb-706478801140",
   "metadata": {},
   "outputs": [],
   "source": [
    "#loading kaggle AC creds\n",
    "kaggle_creds=json.load(open('Kaggle.json'))\n",
    "# print(kaggle_creds)"
   ]
  },
  {
   "cell_type": "code",
   "execution_count": null,
   "id": "6ff33002-a124-4fc8-9765-b1022c769f8b",
   "metadata": {},
   "outputs": [],
   "source": [
    "#setting up env vasriable for kaggle creds\n",
    "os.environ['Kaggle_User']=kaggle_creds['username']\n",
    "os.environ['Kaggle_Key']=kaggle_creds['key']"
   ]
  },
  {
   "cell_type": "code",
   "execution_count": null,
   "id": "47b51773-7d49-45be-b766-3db47a2bdffc",
   "metadata": {},
   "outputs": [],
   "source": [
    "#getting dataset through kaggle api\n",
    "# !kaggle datasets download -d abdallahalidev/plantvillage-dataset"
   ]
  },
  {
   "cell_type": "code",
   "execution_count": null,
   "id": "92799a04-614a-4e0f-ad1d-c57deaff9704",
   "metadata": {},
   "outputs": [],
   "source": [
    "#unload the content of the dataset\n",
    "# with ZipFile('plantvillage-dataset.zip','r') as zip_ref:\n",
    "#     zip_ref.extractall()"
   ]
  },
  {
   "cell_type": "code",
   "execution_count": null,
   "id": "c8cacc83-b19f-49ef-9417-2b052986e0ab",
   "metadata": {},
   "outputs": [],
   "source": [
    "print(os.listdir('plantvillage dataset'))"
   ]
  },
  {
   "cell_type": "code",
   "execution_count": null,
   "id": "ce3d0379-511a-4cb4-995d-2cf61a756d6a",
   "metadata": {},
   "outputs": [],
   "source": [
    "print(len(os.listdir('plantvillage dataset/segmented')))"
   ]
  },
  {
   "cell_type": "code",
   "execution_count": null,
   "id": "dcab44ec-89c9-4514-b125-be798520827d",
   "metadata": {},
   "outputs": [],
   "source": [
    "print(os.listdir('plantvillage dataset/segmented'))"
   ]
  },
  {
   "cell_type": "code",
   "execution_count": null,
   "id": "dd4754b2-a1a6-4916-a1e3-4c4ca0539132",
   "metadata": {},
   "outputs": [],
   "source": [
    "print(len(os.listdir('plantvillage dataset/color')))\n",
    "print(os.listdir('plantvillage dataset/color'))"
   ]
  },
  {
   "cell_type": "code",
   "execution_count": null,
   "id": "549c442a-082b-4851-9218-8e09a44f3991",
   "metadata": {},
   "outputs": [],
   "source": [
    "print(len(os.listdir('plantvillage dataset/grayscale')))\n",
    "print(os.listdir('plantvillage dataset/grayscale'))"
   ]
  },
  {
   "cell_type": "code",
   "execution_count": null,
   "id": "9701e5fe-6319-47ce-a5eb-72ccd3f2f6a8",
   "metadata": {},
   "outputs": [],
   "source": [
    "#no of classes\n",
    "print(len(os.listdir('plantvillage dataset/color')))"
   ]
  },
  {
   "cell_type": "code",
   "execution_count": null,
   "id": "dc77a781-963d-4ff9-a864-6e47d4d93b4b",
   "metadata": {},
   "outputs": [],
   "source": [
    "#data preprocessing\n",
    "base_dir='plantvillage dataset/color'\n",
    "# image_path='plantvillage dataset/color/Apple___Cedar_apple_rust/accd43fa-2496-47ad-a24b-81da9e5f82b7___FREC_C.Rust 3783.JPG'\n",
    "# img=mpimg.imread(image_path)\n",
    "# print(img.shape)\n",
    "# plt.imshow(img)\n",
    "# plt.axis('off')\n",
    "# plt.show()\n"
   ]
  },
  {
   "cell_type": "code",
   "execution_count": null,
   "id": "963ac20e-2a3a-4318-96e1-6c63e400221b",
   "metadata": {},
   "outputs": [],
   "source": [
    "#image parameters\n",
    "img_size=224\n",
    "batch_size=32\n"
   ]
  },
  {
   "cell_type": "code",
   "execution_count": null,
   "id": "cecdfe2a-1d6f-4bf3-a349-6c5c968ab618",
   "metadata": {},
   "outputs": [],
   "source": [
    "#image data gen\n",
    "data_gen=ImageDataGenerator(\n",
    "    rescale=1./255,\n",
    "    validation_split=0.2\n",
    "\n",
    ")    "
   ]
  },
  {
   "cell_type": "code",
   "execution_count": null,
   "id": "6acf95ec-665b-4db0-b6b7-d36e8f099b82",
   "metadata": {},
   "outputs": [],
   "source": [
    "#train gen\n",
    "train_generator=data_gen.flow_from_directory(\n",
    "    base_dir,\n",
    "    target_size=(img_size,img_size),\n",
    "    batch_size=batch_size,\n",
    "    subset='training',\n",
    "    class_mode='categorical'\n",
    ")    "
   ]
  },
  {
   "cell_type": "code",
   "execution_count": null,
   "id": "df3b5f61-f8b5-4b3a-b384-dec1092c50be",
   "metadata": {},
   "outputs": [],
   "source": [
    "#vaL gen\n",
    "validation_generator=data_gen.flow_from_directory(\n",
    "    base_dir,\n",
    "    target_size=(img_size,img_size),\n",
    "    batch_size=batch_size,\n",
    "    subset='validation',\n",
    "    class_mode='categorical'\n",
    ")    "
   ]
  },
  {
   "cell_type": "code",
   "execution_count": null,
   "id": "bd17214e-d848-471f-b049-dfd4df1f3288",
   "metadata": {},
   "outputs": [],
   "source": [
    "#model def\n",
    "model=models.Sequential()\n",
    "model.add(layers.Conv2D(32,(3,3),activation='relu',input_shape=(img_size,img_size,3)))\n",
    "model.add(layers.MaxPooling2D(2,2))\n",
    "model.add(layers.Conv2D(64,(3,3),activation='relu'))\n",
    "model.add(layers.MaxPooling2D(2,2))\n",
    "model.add(layers.Flatten())\n",
    "model.add(layers.Dense(256,activation='relu'))\n",
    "model.add(layers.Dense(train_generator.num_classes,activation='softmax'))\n",
    "\n"
   ]
  },
  {
   "cell_type": "code",
   "execution_count": null,
   "id": "5ff3967d-ea78-4195-b2bb-4fe71e73ab14",
   "metadata": {},
   "outputs": [],
   "source": [
    "#model summary\n",
    "model.summary()"
   ]
  },
  {
   "cell_type": "code",
   "execution_count": null,
   "id": "1927a6ba-b904-4fca-b83d-4d874f562e7f",
   "metadata": {},
   "outputs": [],
   "source": [
    "#model compiling\n",
    "model.compile(optimizer='adam',\n",
    "              loss='categorical_crossentropy',\n",
    "              metrics=['accuracy'])"
   ]
  },
  {
   "cell_type": "code",
   "execution_count": 24,
   "id": "88c463c2-31af-409c-b1cc-67195bf1edbf",
   "metadata": {},
   "outputs": [
    {
     "name": "stdout",
     "output_type": "stream",
     "text": [
      "1358/1358 [==============================] - 781s 574ms/step - loss: 1.0283 - accuracy: 0.7209 - val_loss: 0.4791 - val_accuracy: 0.8475\n",
      "Epoch 2/5\n",
      "1358/1358 [==============================] - 734s 540ms/step - loss: 0.2825 - accuracy: 0.9089 - val_loss: 0.3428 - val_accuracy: 0.8897\n",
      "Epoch 3/5\n",
      "1358/1358 [==============================] - 744s 548ms/step - loss: 0.1348 - accuracy: 0.9563 - val_loss: 0.5061 - val_accuracy: 0.8614\n",
      "Epoch 4/5\n",
      "1358/1358 [==============================] - 745s 548ms/step - loss: 0.0782 - accuracy: 0.9752 - val_loss: 0.5850 - val_accuracy: 0.8638\n",
      "Epoch 5/5\n",
      "1358/1358 [==============================] - 740s 545ms/step - loss: 0.0677 - accuracy: 0.9784 - val_loss: 0.5012 - val_accuracy: 0.8823\n"
     ]
    }
   ],
   "source": [
    "#training the model\n",
    "history=model.fit(\n",
    "    train_generator,\n",
    "    steps_per_epoch=train_generator.samples//batch_size,\n",
    "    epochs=5,\n",
    "    validation_data=validation_generator,\n",
    "    validation_steps=validation_generator.samples//batch_size\n",
    ")"
   ]
  },
  {
   "cell_type": "code",
   "execution_count": 25,
   "id": "ddc8b4f0-599b-48e9-9557-6f5c0ff1cac1",
   "metadata": {},
   "outputs": [
    {
     "name": "stdout",
     "output_type": "stream",
     "text": [
      "339/339 [==============================] - 35s 104ms/step - loss: 0.5012 - accuracy: 0.8823\n",
      "validation accuracy:88.23%\n"
     ]
    }
   ],
   "source": [
    "#model metrics\n",
    "val_loss,val_accuracy=model.evaluate(validation_generator,steps=validation_generator.samples//batch_size)\n",
    "print(f'validation accuracy:{val_accuracy*100:.2f}%')"
   ]
  },
  {
   "cell_type": "code",
   "execution_count": 26,
   "id": "cdbb29d8-17dc-4a17-a585-a02746115149",
   "metadata": {},
   "outputs": [
    {
     "data": {
      "image/png": "[encoded data removed]",
      "text/plain": [
       "<Figure size 640x480 with 1 Axes>"
      ]
     },
     "metadata": {},
     "output_type": "display_data"
    },
    {
     "data": {
      "image/png": "[encoded data removed]",
      "text/plain": [
       "<Figure size 640x480 with 1 Axes>"
      ]
     },
     "metadata": {},
     "output_type": "display_data"
    }
   ],
   "source": [
    "#plotting metrics\n",
    "plt.plot(history.history['accuracy'])\n",
    "plt.plot(history.history['val_accuracy'])\n",
    "plt.title('model accuracy')\n",
    "plt.ylabel('accuracy')\n",
    "plt.xlabel('epoch')\n",
    "plt.legend(['train','test'],loc='upper left')\n",
    "plt.show()\n",
    "\n",
    "plt.plot(history.history['loss'])\n",
    "plt.plot(history.history['val_loss'])\n",
    "plt.title('model loss')\n",
    "plt.ylabel('loss')\n",
    "plt.xlabel('epoch')\n",
    "plt.legend(['train','test'],loc='upper left')\n",
    "plt.show()\n"
   ]
  },
  {
   "cell_type": "code",
   "execution_count": 27,
   "id": "e9dd569a-55f7-4089-865d-d22ed7bdc190",
   "metadata": {},
   "outputs": [],
   "source": [
    "#building predictive sys\n",
    "def load_and_preprocess_image(image_path,target_size=(224,224)):\n",
    "    img=Image.open(image_path)\n",
    "    img=img.resize(target_size)\n",
    "    img_array=np.array(img)\n",
    "    img_array=np.expand_dims(img_array,axis=0)\n",
    "    img_array=img_array.astype('float32')/255\n",
    "    return img_array\n",
    "\n",
    "def predict_img_class(model,image_path,class_indices):\n",
    "    preprocessed_img=load_and_preprocess_image(image_path)\n",
    "    predictions=model.predict(preprocessed_img)\n",
    "    predicted_class_index=np.argmax(predictions,axis=1)[0]\n",
    "    predicted_class_name=class_indices[predicted_class_index]\n",
    "    return predicted_class_name\n",
    "    "
   ]
  },
  {
   "cell_type": "code",
   "execution_count": 29,
   "id": "ac492fda-9646-427a-b229-e458c7f2e258",
   "metadata": {},
   "outputs": [],
   "source": [
    "#mapping class indices to class name\n",
    "class_indices={v:k for k,v in train_generator.class_indices.items()}\n"
   ]
  },
  {
   "cell_type": "code",
   "execution_count": 30,
   "id": "d3cc34fe-dd3b-4189-838e-5aea376d8fc8",
   "metadata": {},
   "outputs": [
    {
     "data": {
      "text/plain": [
       "{0: 'Apple___Apple_scab',\n",
       " 1: 'Apple___Black_rot',\n",
       " 2: 'Apple___Cedar_apple_rust',\n",
       " 3: 'Apple___healthy',\n",
       " 4: 'Blueberry___healthy',\n",
       " 5: 'Cherry_(including_sour)___Powdery_mildew',\n",
       " 6: 'Cherry_(including_sour)___healthy',\n",
       " 7: 'Corn_(maize)___Cercospora_leaf_spot Gray_leaf_spot',\n",
       " 8: 'Corn_(maize)___Common_rust_',\n",
       " 9: 'Corn_(maize)___Northern_Leaf_Blight',\n",
       " 10: 'Corn_(maize)___healthy',\n",
       " 11: 'Grape___Black_rot',\n",
       " 12: 'Grape___Esca_(Black_Measles)',\n",
       " 13: 'Grape___Leaf_blight_(Isariopsis_Leaf_Spot)',\n",
       " 14: 'Grape___healthy',\n",
       " 15: 'Orange___Haunglongbing_(Citrus_greening)',\n",
       " 16: 'Peach___Bacterial_spot',\n",
       " 17: 'Peach___healthy',\n",
       " 18: 'Pepper,_bell___Bacterial_spot',\n",
       " 19: 'Pepper,_bell___healthy',\n",
       " 20: 'Potato___Early_blight',\n",
       " 21: 'Potato___Late_blight',\n",
       " 22: 'Potato___healthy',\n",
       " 23: 'Raspberry___healthy',\n",
       " 24: 'Soybean___healthy',\n",
       " 25: 'Squash___Powdery_mildew',\n",
       " 26: 'Strawberry___Leaf_scorch',\n",
       " 27: 'Strawberry___healthy',\n",
       " 28: 'Tomato___Bacterial_spot',\n",
       " 29: 'Tomato___Early_blight',\n",
       " 30: 'Tomato___Late_blight',\n",
       " 31: 'Tomato___Leaf_Mold',\n",
       " 32: 'Tomato___Septoria_leaf_spot',\n",
       " 33: 'Tomato___Spider_mites Two-spotted_spider_mite',\n",
       " 34: 'Tomato___Target_Spot',\n",
       " 35: 'Tomato___Tomato_Yellow_Leaf_Curl_Virus',\n",
       " 36: 'Tomato___Tomato_mosaic_virus',\n",
       " 37: 'Tomato___healthy'}"
      ]
     },
     "execution_count": 30,
     "metadata": {},
     "output_type": "execute_result"
    }
   ],
   "source": [
    "class_indices"
   ]
  },
  {
   "cell_type": "code",
   "execution_count": 32,
   "id": "a6fa194a-bcbc-4d6c-8e2f-3ef411227f60",
   "metadata": {},
   "outputs": [],
   "source": [
    "#saving class name to json\n",
    "json.dump(class_indices,open('class_indices.json','w'))\n"
   ]
  },
  {
   "cell_type": "code",
   "execution_count": null,
   "id": "439f0c6d-de27-4083-ad11-29f9d099971f",
   "metadata": {},
   "outputs": [],
   "source": [
    "model.save('plantvillage dataset/model.h5')"
   ]
  },
  {
   "cell_type": "code",
   "execution_count": null,
   "id": "34d8202b-199f-4d29-8abf-b54e9926491c",
   "metadata": {},
   "outputs": [],
   "source": [
    "#testing the  model\n",
    "# image_path='plantvillage dataset/color/Apple___Cedar_apple_rust/accd43fa-2496-47ad-a24b-81da9e5f82b7___FREC_C.Rust 3783.JPG'\n",
    "# res=predict_img_class(model,image_path,class_indices)\n",
    "# print(res)"
   ]
  },
  {
   "cell_type": "code",
   "execution_count": null,
   "id": "5b8f346e-aa09-4d0c-8285-6010fbb7133d",
   "metadata": {},
   "outputs": [],
   "source": []
  }
 ],
 "metadata": {
  "kernelspec": {
   "display_name": "Python 3 (ipykernel)",
   "language": "python",
   "name": "python3"
  },
  "language_info": {
   "codemirror_mode": {
    "name": "ipython",
    "version": 3
   },
   "file_extension": ".py",
   "mimetype": "text/x-python",
   "name": "python",
   "nbconvert_exporter": "python",
   "pygments_lexer": "ipython3",
   "version": "3.11.3"
  },
  "widgets": {
   "application/vnd.jupyter.widget-state+json": {
    "state": {},
    "version_major": 2,
    "version_minor": 0
   }
  }
 },
 "nbformat": 4,
 "nbformat_minor": 5
}
